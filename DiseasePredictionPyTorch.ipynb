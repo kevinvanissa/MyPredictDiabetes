{
 "cells": [
  {
   "cell_type": "markdown",
   "id": "1197f261-a1e2-4d50-b081-12e3e5fda186",
   "metadata": {},
   "source": [
    "# Diabetes Prediction with PyTorch"
   ]
  },
  {
   "cell_type": "markdown",
   "id": "2e9bd70e-1d8c-4d8f-9edd-ec48716b47c0",
   "metadata": {},
   "source": [
    "In the previous notebook, I went through the process of cleaning the data from the Behavioral Risk Factor Surveillance System (BRFSS) for 2020 and testing a few classication algorithms to predict the likelihood of having or developing diabetes. The accuracy score was around 73% and we ended with quite a number of False Positives and False Negatives. The purpose of this notebook is to see if I can improve the accuracy by using PyTorch for deep learning."
   ]
  },
  {
   "cell_type": "markdown",
   "id": "f0e0a6b8-02f2-432b-ac5f-154bad0acf33",
   "metadata": {},
   "source": [
    "## 1. Importing the necessary libraries"
   ]
  },
  {
   "cell_type": "code",
   "execution_count": 65,
   "id": "7802af59-0d3a-46b9-bee1-993145b2f127",
   "metadata": {},
   "outputs": [],
   "source": [
    "import torch\n",
    "import torch.nn as nn\n",
    "import torch.nn.functional as F"
   ]
  },
  {
   "cell_type": "code",
   "execution_count": 66,
   "id": "a20602c8-248a-4f6a-8450-670921b1328d",
   "metadata": {},
   "outputs": [],
   "source": [
    "#import the necessary libraries\n",
    "import warnings\n",
    "warnings.filterwarnings('ignore')\n",
    "import numpy as np\n",
    "import pandas as pd\n",
    "import seaborn as sns\n",
    "import matplotlib.pyplot as plt\n",
    "from sklearn.model_selection import train_test_split\n",
    "import math\n",
    "from sklearn import metrics\n",
    "import io\n",
    "import time\n",
    "sns.set(style='ticks')\n",
    "sns.set_style(\"darkgrid\")"
   ]
  },
  {
   "cell_type": "markdown",
   "id": "69202a71-ccd1-4661-86d0-c17b23e1cb7f",
   "metadata": {},
   "source": [
    "## 2. Reading in the Data"
   ]
  },
  {
   "cell_type": "code",
   "execution_count": 67,
   "id": "1dbe9725-e95a-43d2-a7fb-e04becec1cdd",
   "metadata": {},
   "outputs": [],
   "source": [
    "#Reading in the CSV saved from pervious notebook\n",
    "final_df = pd.read_csv('final_df.csv', sep='\\t', encoding='utf-8')\n"
   ]
  },
  {
   "cell_type": "code",
   "execution_count": 68,
   "id": "cb890528-b2fc-4563-b7ef-123d6fccf6da",
   "metadata": {},
   "outputs": [
    {
     "data": {
      "text/html": [
       "<div>\n",
       "<style scoped>\n",
       "    .dataframe tbody tr th:only-of-type {\n",
       "        vertical-align: middle;\n",
       "    }\n",
       "\n",
       "    .dataframe tbody tr th {\n",
       "        vertical-align: top;\n",
       "    }\n",
       "\n",
       "    .dataframe thead th {\n",
       "        text-align: right;\n",
       "    }\n",
       "</style>\n",
       "<table border=\"1\" class=\"dataframe\">\n",
       "  <thead>\n",
       "    <tr style=\"text-align: right;\">\n",
       "      <th></th>\n",
       "      <th>Diabetes</th>\n",
       "      <th>Age</th>\n",
       "      <th>Race</th>\n",
       "      <th>Birth_Sex</th>\n",
       "      <th>Education</th>\n",
       "      <th>Income</th>\n",
       "      <th>Marital</th>\n",
       "      <th>General_Health</th>\n",
       "      <th>Physical_Health</th>\n",
       "      <th>Health_Coverage</th>\n",
       "      <th>Smoker</th>\n",
       "      <th>Drinker</th>\n",
       "      <th>Physical_Activity</th>\n",
       "      <th>Medical_Cost</th>\n",
       "      <th>Overweight</th>\n",
       "      <th>Heart_Disease</th>\n",
       "    </tr>\n",
       "  </thead>\n",
       "  <tbody>\n",
       "    <tr>\n",
       "      <th>0</th>\n",
       "      <td>1.0</td>\n",
       "      <td>5.0</td>\n",
       "      <td>1.0</td>\n",
       "      <td>0.0</td>\n",
       "      <td>6.0</td>\n",
       "      <td>1.0</td>\n",
       "      <td>2.0</td>\n",
       "      <td>2.0</td>\n",
       "      <td>3.0</td>\n",
       "      <td>2.0</td>\n",
       "      <td>1.0</td>\n",
       "      <td>1.0</td>\n",
       "      <td>1.0</td>\n",
       "      <td>1.0</td>\n",
       "      <td>1.0</td>\n",
       "      <td>2.0</td>\n",
       "    </tr>\n",
       "    <tr>\n",
       "      <th>1</th>\n",
       "      <td>1.0</td>\n",
       "      <td>6.0</td>\n",
       "      <td>1.0</td>\n",
       "      <td>1.0</td>\n",
       "      <td>4.0</td>\n",
       "      <td>5.0</td>\n",
       "      <td>4.0</td>\n",
       "      <td>4.0</td>\n",
       "      <td>20.0</td>\n",
       "      <td>1.0</td>\n",
       "      <td>3.0</td>\n",
       "      <td>1.0</td>\n",
       "      <td>1.0</td>\n",
       "      <td>2.0</td>\n",
       "      <td>2.0</td>\n",
       "      <td>2.0</td>\n",
       "    </tr>\n",
       "    <tr>\n",
       "      <th>2</th>\n",
       "      <td>1.0</td>\n",
       "      <td>6.0</td>\n",
       "      <td>1.0</td>\n",
       "      <td>0.0</td>\n",
       "      <td>5.0</td>\n",
       "      <td>4.0</td>\n",
       "      <td>3.0</td>\n",
       "      <td>3.0</td>\n",
       "      <td>5.0</td>\n",
       "      <td>1.0</td>\n",
       "      <td>3.0</td>\n",
       "      <td>1.0</td>\n",
       "      <td>2.0</td>\n",
       "      <td>2.0</td>\n",
       "      <td>2.0</td>\n",
       "      <td>2.0</td>\n",
       "    </tr>\n",
       "    <tr>\n",
       "      <th>3</th>\n",
       "      <td>1.0</td>\n",
       "      <td>6.0</td>\n",
       "      <td>1.0</td>\n",
       "      <td>1.0</td>\n",
       "      <td>6.0</td>\n",
       "      <td>7.0</td>\n",
       "      <td>1.0</td>\n",
       "      <td>2.0</td>\n",
       "      <td>0.0</td>\n",
       "      <td>1.0</td>\n",
       "      <td>3.0</td>\n",
       "      <td>1.0</td>\n",
       "      <td>1.0</td>\n",
       "      <td>2.0</td>\n",
       "      <td>2.0</td>\n",
       "      <td>2.0</td>\n",
       "    </tr>\n",
       "    <tr>\n",
       "      <th>4</th>\n",
       "      <td>1.0</td>\n",
       "      <td>6.0</td>\n",
       "      <td>2.0</td>\n",
       "      <td>0.0</td>\n",
       "      <td>4.0</td>\n",
       "      <td>2.0</td>\n",
       "      <td>3.0</td>\n",
       "      <td>4.0</td>\n",
       "      <td>0.0</td>\n",
       "      <td>1.0</td>\n",
       "      <td>3.0</td>\n",
       "      <td>1.0</td>\n",
       "      <td>2.0</td>\n",
       "      <td>2.0</td>\n",
       "      <td>2.0</td>\n",
       "      <td>2.0</td>\n",
       "    </tr>\n",
       "  </tbody>\n",
       "</table>\n",
       "</div>"
      ],
      "text/plain": [
       "   Diabetes  Age  Race  Birth_Sex  Education  Income  Marital  General_Health  \\\n",
       "0       1.0  5.0   1.0        0.0        6.0     1.0      2.0             2.0   \n",
       "1       1.0  6.0   1.0        1.0        4.0     5.0      4.0             4.0   \n",
       "2       1.0  6.0   1.0        0.0        5.0     4.0      3.0             3.0   \n",
       "3       1.0  6.0   1.0        1.0        6.0     7.0      1.0             2.0   \n",
       "4       1.0  6.0   2.0        0.0        4.0     2.0      3.0             4.0   \n",
       "\n",
       "   Physical_Health  Health_Coverage  Smoker  Drinker  Physical_Activity  \\\n",
       "0              3.0              2.0     1.0      1.0                1.0   \n",
       "1             20.0              1.0     3.0      1.0                1.0   \n",
       "2              5.0              1.0     3.0      1.0                2.0   \n",
       "3              0.0              1.0     3.0      1.0                1.0   \n",
       "4              0.0              1.0     3.0      1.0                2.0   \n",
       "\n",
       "   Medical_Cost  Overweight  Heart_Disease  \n",
       "0           1.0         1.0            2.0  \n",
       "1           2.0         2.0            2.0  \n",
       "2           2.0         2.0            2.0  \n",
       "3           2.0         2.0            2.0  \n",
       "4           2.0         2.0            2.0  "
      ]
     },
     "execution_count": 68,
     "metadata": {},
     "output_type": "execute_result"
    }
   ],
   "source": [
    "final_df.head()"
   ]
  },
  {
   "cell_type": "markdown",
   "id": "b5e9268d-8b25-4707-9427-07298fa73eab",
   "metadata": {},
   "source": [
    "## 3. Split Data into Training and Testing Set"
   ]
  },
  {
   "cell_type": "code",
   "execution_count": 69,
   "id": "62aba63a-e6eb-4dd8-a248-d6cb0ef7be61",
   "metadata": {},
   "outputs": [],
   "source": [
    "#Separate dataset into labels and features. Label is the diabetes column\n",
    "X = np.array(final_df.drop(['Diabetes'], axis=1))\n",
    "y = np.array(final_df['Diabetes'])"
   ]
  },
  {
   "cell_type": "code",
   "execution_count": 70,
   "id": "15208140-43d6-46b4-b450-5900fdf8d025",
   "metadata": {},
   "outputs": [],
   "source": [
    "#split dataset into training and testing for models\n",
    "#can add random_state=<some value>. This would ensure we get the same sets each time\n",
    "#70% for the train and 30% for testing\n",
    "X_train, X_test, y_train, y_test = train_test_split(X,y,test_size=0.3, shuffle=True, random_state=10)"
   ]
  },
  {
   "cell_type": "code",
   "execution_count": 71,
   "id": "7cf301e5-c08b-40f0-a92f-3b150cd95f11",
   "metadata": {},
   "outputs": [],
   "source": [
    "# The next step is to create our tensors tensors\n",
    "X_train_t = torch.FloatTensor(X_train)\n",
    "X_test_t = torch.FloatTensor(X_test)\n",
    "y_train_t = torch.LongTensor(y_train)\n",
    "y_test_t = torch.LongTensor(y_test)"
   ]
  },
  {
   "cell_type": "code",
   "execution_count": 72,
   "id": "5c018403-846a-42e3-9ad7-9015b470f056",
   "metadata": {},
   "outputs": [
    {
     "data": {
      "text/plain": [
       "tensor([[4., 1., 1.,  ..., 2., 1., 2.],\n",
       "        [5., 1., 1.,  ..., 2., 2., 2.],\n",
       "        [5., 2., 0.,  ..., 2., 2., 2.],\n",
       "        ...,\n",
       "        [6., 1., 0.,  ..., 2., 2., 2.],\n",
       "        [4., 1., 0.,  ..., 2., 2., 2.],\n",
       "        [5., 1., 0.,  ..., 2., 1., 2.]])"
      ]
     },
     "execution_count": 72,
     "metadata": {},
     "output_type": "execute_result"
    }
   ],
   "source": [
    "#Checking one of the Tensors\n",
    "X_train_t"
   ]
  },
  {
   "cell_type": "markdown",
   "id": "b335b926-2868-4443-b415-b2367e157e8c",
   "metadata": {},
   "source": [
    "## 4. Building and Training Artificial Neural Network Model"
   ]
  },
  {
   "cell_type": "code",
   "execution_count": 73,
   "id": "54c265bb-910a-4855-b45d-6f5fa0e26e9d",
   "metadata": {},
   "outputs": [],
   "source": [
    "# creating model with PyTorch. DEfine the class\n",
    "#We have 15 features on input=15 and 2 hidden layers (30 inputs each) and out_put = 2\n",
    "class ANN_Model(nn.Module):\n",
    "    def __init__(self, input_features=15, hidden1=64, hidden2=128, out_features=2):\n",
    "        super().__init__()\n",
    "        self.f_connected1 =  nn.Linear(input_features, hidden1)\n",
    "        self.f_connected2 = nn.Linear(hidden1, hidden2)\n",
    "        self.out = nn.Linear(hidden2, out_features)\n",
    "    def forward(self,x):\n",
    "        x = F.relu(self.f_connected1(x))\n",
    "        x = F.relu(self.f_connected2(x))\n",
    "        x = self.out(x)\n",
    "        return x"
   ]
  },
  {
   "cell_type": "code",
   "execution_count": 74,
   "id": "863f5388-bbad-4a30-a9fd-3c94c48e845f",
   "metadata": {},
   "outputs": [],
   "source": [
    "# instantiate my model\n",
    "torch.manual_seed(20)\n",
    "model = ANN_Model()"
   ]
  },
  {
   "cell_type": "code",
   "execution_count": 75,
   "id": "82af66a0-0f5f-4a3f-a09a-15ff7f4d2f10",
   "metadata": {},
   "outputs": [
    {
     "data": {
      "text/plain": [
       "<bound method Module.parameters of ANN_Model(\n",
       "  (f_connected1): Linear(in_features=15, out_features=64, bias=True)\n",
       "  (f_connected2): Linear(in_features=64, out_features=128, bias=True)\n",
       "  (out): Linear(in_features=128, out_features=2, bias=True)\n",
       ")>"
      ]
     },
     "execution_count": 75,
     "metadata": {},
     "output_type": "execute_result"
    }
   ],
   "source": [
    "#check the model parameters\n",
    "model.parameters"
   ]
  },
  {
   "cell_type": "code",
   "execution_count": 76,
   "id": "ae57b53b-1a12-4edc-a86c-6e7d8a204993",
   "metadata": {},
   "outputs": [],
   "source": [
    "## Backward propogation -- Define the loss_function and define the optimizer\n",
    "#model.parameters() will return a generator that's why we used the brackets\n",
    "loss_function = nn.CrossEntropyLoss()\n",
    "optimizer=torch.optim.Adam(model.parameters(),lr=0.01)"
   ]
  },
  {
   "cell_type": "code",
   "execution_count": 77,
   "id": "4ceec152-2f6b-4a86-bad4-2267bd979a91",
   "metadata": {},
   "outputs": [
    {
     "name": "stdout",
     "output_type": "stream",
     "text": [
      "Epoch number: 1 and the loss: 0.7230020761489868\n",
      "Epoch number: 11 and the loss: 0.6019874215126038\n",
      "Epoch number: 21 and the loss: 0.5560014843940735\n",
      "Epoch number: 31 and the loss: 0.5427707433700562\n",
      "Epoch number: 41 and the loss: 0.5352184772491455\n",
      "Epoch number: 51 and the loss: 0.5310775637626648\n",
      "Epoch number: 61 and the loss: 0.5293008089065552\n",
      "Epoch number: 71 and the loss: 0.5286121368408203\n",
      "Epoch number: 81 and the loss: 0.5280584692955017\n",
      "Epoch number: 91 and the loss: 0.5269811749458313\n",
      "Epoch number: 101 and the loss: 0.526321530342102\n",
      "Epoch number: 111 and the loss: 0.5258094668388367\n",
      "Epoch number: 121 and the loss: 0.5249330997467041\n",
      "Epoch number: 131 and the loss: 0.5246785879135132\n",
      "Epoch number: 141 and the loss: 0.5239773392677307\n",
      "Epoch number: 151 and the loss: 0.5236549973487854\n",
      "Epoch number: 161 and the loss: 0.5240423083305359\n",
      "Epoch number: 171 and the loss: 0.5247637629508972\n",
      "Epoch number: 181 and the loss: 0.5226103663444519\n",
      "Epoch number: 191 and the loss: 0.5223694443702698\n",
      "Epoch number: 201 and the loss: 0.5226050019264221\n",
      "Epoch number: 211 and the loss: 0.5217711329460144\n",
      "Epoch number: 221 and the loss: 0.5216511487960815\n",
      "Epoch number: 231 and the loss: 0.5212299823760986\n",
      "Epoch number: 241 and the loss: 0.5212929844856262\n",
      "Epoch number: 251 and the loss: 0.5208307504653931\n",
      "Epoch number: 261 and the loss: 0.5205072164535522\n",
      "Epoch number: 271 and the loss: 0.5202580094337463\n",
      "Epoch number: 281 and the loss: 0.5202421545982361\n",
      "Epoch number: 291 and the loss: 0.5197054743766785\n",
      "Epoch number: 301 and the loss: 0.519633948802948\n",
      "Epoch number: 311 and the loss: 0.5201576352119446\n",
      "Epoch number: 321 and the loss: 0.5211439728736877\n",
      "Epoch number: 331 and the loss: 0.5201646685600281\n",
      "Epoch number: 341 and the loss: 0.5205029845237732\n",
      "Epoch number: 351 and the loss: 0.5198501348495483\n",
      "Epoch number: 361 and the loss: 0.5188208222389221\n",
      "Epoch number: 371 and the loss: 0.5186875462532043\n",
      "Epoch number: 381 and the loss: 0.5179263949394226\n",
      "Epoch number: 391 and the loss: 0.521397054195404\n",
      "Epoch number: 401 and the loss: 0.5178161263465881\n",
      "Epoch number: 411 and the loss: 0.5174850225448608\n",
      "Epoch number: 421 and the loss: 0.5172908902168274\n",
      "Epoch number: 431 and the loss: 0.5170987248420715\n",
      "Epoch number: 441 and the loss: 0.5178504586219788\n",
      "Epoch number: 451 and the loss: 0.5164597630500793\n",
      "Epoch number: 461 and the loss: 0.5211407542228699\n",
      "Epoch number: 471 and the loss: 0.5190293192863464\n",
      "Epoch number: 481 and the loss: 0.5161280632019043\n",
      "Epoch number: 491 and the loss: 0.5156705975532532\n",
      "Epoch number: 501 and the loss: 0.5153055191040039\n",
      "Epoch number: 511 and the loss: 0.5196228623390198\n",
      "Epoch number: 521 and the loss: 0.5169117450714111\n",
      "Epoch number: 531 and the loss: 0.5150470733642578\n",
      "Epoch number: 541 and the loss: 0.5144888758659363\n",
      "Epoch number: 551 and the loss: 0.5142431855201721\n",
      "Epoch number: 561 and the loss: 0.5163128972053528\n",
      "Epoch number: 571 and the loss: 0.5156162977218628\n",
      "Epoch number: 581 and the loss: 0.5167715549468994\n",
      "Epoch number: 591 and the loss: 0.5146209597587585\n",
      "Epoch number: 601 and the loss: 0.5139331221580505\n",
      "Epoch number: 611 and the loss: 0.5147527456283569\n",
      "Epoch number: 621 and the loss: 0.5149415731430054\n",
      "Epoch number: 631 and the loss: 0.5162039399147034\n",
      "Epoch number: 641 and the loss: 0.5140596628189087\n",
      "Epoch number: 651 and the loss: 0.5135514140129089\n",
      "Epoch number: 661 and the loss: 0.513079047203064\n",
      "Epoch number: 671 and the loss: 0.512224018573761\n",
      "Epoch number: 681 and the loss: 0.5139999389648438\n",
      "Epoch number: 691 and the loss: 0.5132774114608765\n",
      "Epoch number: 701 and the loss: 0.5120059847831726\n",
      "Epoch number: 711 and the loss: 0.5114647746086121\n",
      "Epoch number: 721 and the loss: 0.5110394954681396\n",
      "Epoch number: 731 and the loss: 0.5109288096427917\n",
      "Epoch number: 741 and the loss: 0.5185254216194153\n",
      "Epoch number: 751 and the loss: 0.5121859908103943\n",
      "Epoch number: 761 and the loss: 0.5116051435470581\n",
      "Epoch number: 771 and the loss: 0.5104056000709534\n",
      "Epoch number: 781 and the loss: 0.5102575421333313\n",
      "Epoch number: 791 and the loss: 0.5166489481925964\n",
      "Epoch number: 801 and the loss: 0.5105974674224854\n",
      "Epoch number: 811 and the loss: 0.5100389122962952\n",
      "Epoch number: 821 and the loss: 0.5092241764068604\n",
      "Epoch number: 831 and the loss: 0.5083472728729248\n",
      "Epoch number: 841 and the loss: 0.5202583074569702\n",
      "Epoch number: 851 and the loss: 0.5115127563476562\n",
      "Epoch number: 861 and the loss: 0.5101931095123291\n",
      "Epoch number: 871 and the loss: 0.5083955526351929\n",
      "Epoch number: 881 and the loss: 0.5075944066047668\n",
      "Epoch number: 891 and the loss: 0.5085961818695068\n",
      "Epoch number: 901 and the loss: 0.5077168941497803\n",
      "Epoch number: 911 and the loss: 0.5070589184761047\n",
      "Epoch number: 921 and the loss: 0.508736789226532\n",
      "Epoch number: 931 and the loss: 0.5084576606750488\n",
      "Epoch number: 941 and the loss: 0.5080077052116394\n",
      "Epoch number: 951 and the loss: 0.5058901309967041\n",
      "Epoch number: 961 and the loss: 0.5073387026786804\n",
      "Epoch number: 971 and the loss: 0.5063188672065735\n",
      "Epoch number: 981 and the loss: 0.5067833662033081\n",
      "Epoch number: 991 and the loss: 0.5061314702033997\n"
     ]
    }
   ],
   "source": [
    "#trigger the propogation\n",
    "epochs=1000\n",
    "final_losses=[]\n",
    "for i in range(epochs):\n",
    "    i = i+1\n",
    "    y_pred = model.forward(X_train_t)\n",
    "    loss=loss_function(y_pred, y_train_t)\n",
    "    final_losses.append(loss.item())\n",
    "    if i%10==1:\n",
    "        print(\"Epoch number: {} and the loss: {}\".format(i, loss.item()))\n",
    "    optimizer.zero_grad()\n",
    "    loss.backward()\n",
    "    optimizer.step()"
   ]
  },
  {
   "cell_type": "code",
   "execution_count": 78,
   "id": "a66d2187-49df-4ec1-a2b7-78c50e5b12b8",
   "metadata": {},
   "outputs": [
    {
     "data": {
      "text/plain": [
       "Text(0.5, 0, 'Epoch')"
      ]
     },
     "execution_count": 78,
     "metadata": {},
     "output_type": "execute_result"
    },
    {
     "data": {
      "image/png": "[encoded data removed]",
      "text/plain": [
       "<Figure size 432x288 with 1 Axes>"
      ]
     },
     "metadata": {
      "needs_background": "light"
     },
     "output_type": "display_data"
    }
   ],
   "source": [
    "#plot the loss function\n",
    "%matplotlib inline\n",
    "plt.plot(range(epochs), final_losses)\n",
    "plt.ylabel('Loss')\n",
    "plt.xlabel('Epoch')"
   ]
  },
  {
   "cell_type": "markdown",
   "id": "9fb607bf-465d-4486-9f6f-3cd83e2ee7ba",
   "metadata": {},
   "source": [
    "## 5. Testing Model"
   ]
  },
  {
   "cell_type": "code",
   "execution_count": 79,
   "id": "548a7ce4-a5e8-4302-9ad3-d0ba5a81f23b",
   "metadata": {},
   "outputs": [],
   "source": [
    "#create prediction with with X_test_t\n",
    "#Don't need gradient for this\n",
    "test_predictions = []\n",
    "with torch.no_grad():\n",
    "  for i, value in enumerate(X_test_t):\n",
    "    y_pred = model(value)\n",
    "    test_predictions.append(y_pred.argmax().item())"
   ]
  },
  {
   "cell_type": "code",
   "execution_count": 80,
   "id": "0fb4b8a9-19ab-48f4-98fd-16045e7fd231",
   "metadata": {},
   "outputs": [],
   "source": [
    "#zipping actual value and predictions\n",
    "#since we need two arrays, we convert the tensor to a numpy array\n",
    "zipped_values = zip(y_test_t.numpy(), test_predictions)"
   ]
  },
  {
   "cell_type": "code",
   "execution_count": 81,
   "id": "8fb3df20-7af7-41ff-a508-678b3df1ea53",
   "metadata": {},
   "outputs": [
    {
     "data": {
      "text/plain": [
       "[(0, 0), (0, 0), (0, 0), (1, 1), (0, 0)]"
      ]
     },
     "execution_count": 81,
     "metadata": {},
     "output_type": "execute_result"
    }
   ],
   "source": [
    "#look at the first 5 predictions\n",
    "list(zipped_values)[:5]\n"
   ]
  },
  {
   "cell_type": "code",
   "execution_count": 82,
   "id": "93342bf0-7bb2-4f49-9705-1f2fe26beeb7",
   "metadata": {},
   "outputs": [
    {
     "data": {
      "text/plain": [
       "array([[7758, 3003],\n",
       "       [2707, 7924]])"
      ]
     },
     "execution_count": 82,
     "metadata": {},
     "output_type": "execute_result"
    }
   ],
   "source": [
    "#create confusion matrix\n",
    "from sklearn.metrics import confusion_matrix\n",
    "m = confusion_matrix(y_test_t.numpy(),test_predictions)\n",
    "m"
   ]
  },
  {
   "cell_type": "code",
   "execution_count": 83,
   "id": "e14d83d0-c303-4e1c-9103-41ac0364d278",
   "metadata": {},
   "outputs": [
    {
     "data": {
      "text/plain": [
       "0.7330777860882572"
      ]
     },
     "execution_count": 83,
     "metadata": {},
     "output_type": "execute_result"
    }
   ],
   "source": [
    "#check accuracy\n",
    "from sklearn.metrics import accuracy_score\n",
    "score = accuracy_score(y_test_t.numpy(), test_predictions)\n",
    "score"
   ]
  },
  {
   "cell_type": "markdown",
   "id": "b4964d4c-78fc-4cc1-97d2-1cbd3ae77ff3",
   "metadata": {},
   "source": [
    "## 6. Conclusion"
   ]
  },
  {
   "cell_type": "markdown",
   "id": "05141535-3cc6-4500-9a90-0ae5acb80707",
   "metadata": {},
   "source": [
    "With the use of PyTorch, I basically did not see any improvement. Actually, the Logistic Regression model gave a slightly better performance. However, there are things that I can play around with to see if the accuracy and other assessment metrics can be improved.\n",
    "I could make the network be a little deeper than just using 2 hidden layers. This also means that I would increase the number epochs. This might take some while to run and because this notebook runs on my laptop, I will leave that for future exploration."
   ]
  }
 ],
 "metadata": {
  "kernelspec": {
   "display_name": "Python 3 (ipykernel)",
   "language": "python",
   "name": "python3"
  },
  "language_info": {
   "codemirror_mode": {
    "name": "ipython",
    "version": 3
   },
   "file_extension": ".py",
   "mimetype": "text/x-python",
   "name": "python",
   "nbconvert_exporter": "python",
   "pygments_lexer": "ipython3",
   "version": "3.9.12"
  }
 },
 "nbformat": 4,
 "nbformat_minor": 5
}
